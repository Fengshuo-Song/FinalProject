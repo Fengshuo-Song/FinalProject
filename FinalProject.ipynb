{
 "cells": [
  {
   "cell_type": "code",
   "execution_count": 1,
   "metadata": {},
   "outputs": [
    {
     "name": "stderr",
     "output_type": "stream",
     "text": [
      "100%|████████████████████████████████████████████████████████████████████████████| 4001/4001 [00:03<00:00, 1053.69it/s]\n",
      "100%|████████████████████████████████████████████████████████████████████████████| 1012/1012 [00:00<00:00, 1039.30it/s]\n",
      "100%|████████████████████████████████████████████████████████████████████████████| 4006/4006 [00:03<00:00, 1041.00it/s]\n",
      "100%|████████████████████████████████████████████████████████████████████████████| 1013/1013 [00:00<00:00, 1066.28it/s]\n"
     ]
    }
   ],
   "source": [
    "import cv2\n",
    "import numpy as np\n",
    "import os\n",
    "import re\n",
    "from tqdm import tqdm\n",
    "\n",
    "import torchvision\n",
    "import torchvision.transforms as transforms\n",
    "\n",
    "training_data = []\n",
    "test_data = []\n",
    "label = {\"cats\": 0, \"dogs\": 1}\n",
    "image_size = (64,64)\n",
    "\n",
    "def read_data(path):\n",
    "    tmp_data = []\n",
    "    for file in tqdm(os.listdir(path)):\n",
    "        if re.match(\"^(cat|dog).[0-9]+.jpg\", file):\n",
    "            full_path = os.path.join(path, file)\n",
    "            img = cv2.imread(full_path,cv2.IMREAD_GRAYSCALE)\n",
    "            img = cv2.resize(img, image_size)\n",
    "            tmp_data.append([torchvision.transforms.functional.to_tensor(img), label[item_label]])\n",
    "    return tmp_data\n",
    "\n",
    "for item_label in label:\n",
    "    training_data += (read_data(\"dataset\\\\training_set\\\\\" + item_label))\n",
    "    test_data += (read_data(\"dataset\\\\test_set\\\\\" + item_label))\n",
    "                "
   ]
  },
  {
   "cell_type": "code",
   "execution_count": 2,
   "metadata": {},
   "outputs": [
    {
     "data": {
      "text/plain": [
       "<matplotlib.image.AxesImage at 0x1e3e01d5310>"
      ]
     },
     "execution_count": 2,
     "metadata": {},
     "output_type": "execute_result"
    },
    {
     "data": {
      "image/png": "[encoded data removed]",
      "text/plain": [
       "<Figure size 432x288 with 1 Axes>"
      ]
     },
     "metadata": {
      "needs_background": "light"
     },
     "output_type": "display_data"
    }
   ],
   "source": [
    "# Check image\n",
    "import matplotlib.pyplot as plt\n",
    "plt.imshow(training_data[0][0].numpy().reshape(64,64), cmap='gray')"
   ]
  },
  {
   "cell_type": "code",
   "execution_count": 3,
   "metadata": {},
   "outputs": [
    {
     "name": "stdout",
     "output_type": "stream",
     "text": [
      "cats\n"
     ]
    }
   ],
   "source": [
    "# Check label\n",
    "print(list(label.keys())[list(label.values()).index(training_data[0][1])])"
   ]
  },
  {
   "cell_type": "code",
   "execution_count": 4,
   "metadata": {},
   "outputs": [
    {
     "name": "stdout",
     "output_type": "stream",
     "text": [
      "8000\n",
      "2000\n"
     ]
    }
   ],
   "source": [
    "print(len(training_data))\n",
    "print(len(test_data))"
   ]
  },
  {
   "cell_type": "code",
   "execution_count": 5,
   "metadata": {},
   "outputs": [
    {
     "name": "stdout",
     "output_type": "stream",
     "text": [
      "[tensor([[[0.1686, 0.1647, 0.1412,  ..., 0.3137, 0.4980, 0.7608],\n",
      "         [0.1569, 0.1490, 0.1725,  ..., 0.3490, 0.4863, 0.7490],\n",
      "         [0.1529, 0.1451, 0.2353,  ..., 0.3922, 0.4902, 0.7804],\n",
      "         ...,\n",
      "         [0.0902, 0.0824, 0.0941,  ..., 0.2706, 0.3137, 0.1961],\n",
      "         [0.0784, 0.0745, 0.0863,  ..., 0.0980, 0.2275, 0.2039],\n",
      "         [0.1020, 0.0902, 0.0902,  ..., 0.2824, 0.2667, 0.1137]]]), 0]\n"
     ]
    }
   ],
   "source": [
    "print(training_data[0])"
   ]
  },
  {
   "cell_type": "code",
   "execution_count": 192,
   "metadata": {},
   "outputs": [],
   "source": [
    "import torch \n",
    "import torch.nn as nn\n",
    "\n",
    "device = torch.device('cuda' if torch.cuda.is_available() else 'cpu') #CUDA is a GPU\n",
    "\n",
    "input_size = 64*64\n",
    "num_classes = 2\n",
    "num_epochs = 20\n",
    "batch_size = 100\n",
    "learning_rate = 0.001\n",
    "\n",
    "train_loader = torch.utils.data.DataLoader(dataset=training_data, \n",
    "                                           batch_size=batch_size, \n",
    "                                           shuffle=True)\n",
    "\n",
    "test_loader = torch.utils.data.DataLoader(dataset=test_data, \n",
    "                                          batch_size=batch_size, \n",
    "                                          shuffle=False)"
   ]
  },
  {
   "cell_type": "code",
   "execution_count": 193,
   "metadata": {},
   "outputs": [],
   "source": [
    "class ConvNet(nn.Module):\n",
    "    def __init__(self, num_classes = 2):\n",
    "        super(ConvNet, self).__init__()\n",
    "        self.layer1 = nn.Sequential(\n",
    "            nn.Conv2d(1, 32, kernel_size=5, stride=1, padding=2),\n",
    "            nn.BatchNorm2d(32),\n",
    "            nn.ReLU(),\n",
    "            nn.MaxPool2d(kernel_size=5, stride=2))\n",
    "        self.layer2 = nn.Sequential(\n",
    "            nn.Conv2d(32, 64, kernel_size=5, stride=1, padding=2),\n",
    "            nn.BatchNorm2d(64),\n",
    "            nn.ReLU(),\n",
    "            nn.MaxPool2d(kernel_size=2, stride=2))\n",
    "        self.layer3 = nn.Sequential(\n",
    "            nn.Conv2d(64, 128, kernel_size=5, stride=1, padding=2),\n",
    "            nn.BatchNorm2d(128),\n",
    "            nn.ReLU(),\n",
    "            nn.MaxPool2d(kernel_size=2, stride=2))\n",
    "        self.layer4 = nn.Sequential(\n",
    "            nn.Conv2d(128, 256, kernel_size=5, stride=1, padding=2),\n",
    "            nn.BatchNorm2d(256),\n",
    "            nn.ReLU(),\n",
    "            nn.MaxPool2d(kernel_size=2, stride=2))\n",
    "        self.fc = nn.Linear(2304, num_classes)\n",
    "        \n",
    "    def forward(self, x):\n",
    "        out = self.layer1(x)\n",
    "        out = self.layer2(out)\n",
    "        out = self.layer3(out)\n",
    "        out = self.layer4(out)\n",
    "        out = out.reshape(out.size(0), -1)\n",
    "        out = self.fc(out)\n",
    "        return out"
   ]
  },
  {
   "cell_type": "code",
   "execution_count": 194,
   "metadata": {},
   "outputs": [
    {
     "name": "stdout",
     "output_type": "stream",
     "text": [
      "Epoch [1/20], Step [20/80], Loss: 0.6904\n",
      "Epoch [1/20], Step [40/80], Loss: 0.6910\n",
      "Epoch [1/20], Step [60/80], Loss: 0.6315\n",
      "Epoch [1/20], Step [80/80], Loss: 0.6563\n",
      "Epoch [2/20], Step [20/80], Loss: 0.6127\n",
      "Epoch [2/20], Step [40/80], Loss: 0.6279\n",
      "Epoch [2/20], Step [60/80], Loss: 0.5989\n",
      "Epoch [2/20], Step [80/80], Loss: 0.5974\n",
      "Epoch [3/20], Step [20/80], Loss: 0.5860\n",
      "Epoch [3/20], Step [40/80], Loss: 0.4717\n",
      "Epoch [3/20], Step [60/80], Loss: 0.5374\n",
      "Epoch [3/20], Step [80/80], Loss: 0.5247\n",
      "Epoch [4/20], Step [20/80], Loss: 0.4594\n",
      "Epoch [4/20], Step [40/80], Loss: 0.3755\n",
      "Epoch [4/20], Step [60/80], Loss: 0.4784\n",
      "Epoch [4/20], Step [80/80], Loss: 0.4950\n",
      "Epoch [5/20], Step [20/80], Loss: 0.4003\n",
      "Epoch [5/20], Step [40/80], Loss: 0.4148\n",
      "Epoch [5/20], Step [60/80], Loss: 0.5618\n",
      "Epoch [5/20], Step [80/80], Loss: 0.4598\n",
      "Epoch [6/20], Step [20/80], Loss: 0.3459\n",
      "Epoch [6/20], Step [40/80], Loss: 0.3096\n",
      "Epoch [6/20], Step [60/80], Loss: 0.3778\n",
      "Epoch [6/20], Step [80/80], Loss: 0.3557\n",
      "Epoch [7/20], Step [20/80], Loss: 0.2447\n",
      "Epoch [7/20], Step [40/80], Loss: 0.3087\n",
      "Epoch [7/20], Step [60/80], Loss: 0.3282\n",
      "Epoch [7/20], Step [80/80], Loss: 0.3036\n",
      "Epoch [8/20], Step [20/80], Loss: 0.2251\n",
      "Epoch [8/20], Step [40/80], Loss: 0.2682\n",
      "Epoch [8/20], Step [60/80], Loss: 0.3810\n",
      "Epoch [8/20], Step [80/80], Loss: 0.2562\n",
      "Epoch [9/20], Step [20/80], Loss: 0.2098\n",
      "Epoch [9/20], Step [40/80], Loss: 0.1932\n",
      "Epoch [9/20], Step [60/80], Loss: 0.2123\n",
      "Epoch [9/20], Step [80/80], Loss: 0.2153\n",
      "Epoch [10/20], Step [20/80], Loss: 0.1153\n",
      "Epoch [10/20], Step [40/80], Loss: 0.2104\n",
      "Epoch [10/20], Step [60/80], Loss: 0.1587\n",
      "Epoch [10/20], Step [80/80], Loss: 0.2601\n",
      "Epoch [11/20], Step [20/80], Loss: 0.0958\n",
      "Epoch [11/20], Step [40/80], Loss: 0.0771\n",
      "Epoch [11/20], Step [60/80], Loss: 0.1299\n",
      "Epoch [11/20], Step [80/80], Loss: 0.1967\n",
      "Epoch [12/20], Step [20/80], Loss: 0.1027\n",
      "Epoch [12/20], Step [40/80], Loss: 0.0847\n",
      "Epoch [12/20], Step [60/80], Loss: 0.0726\n",
      "Epoch [12/20], Step [80/80], Loss: 0.0814\n",
      "Epoch [13/20], Step [20/80], Loss: 0.0574\n",
      "Epoch [13/20], Step [40/80], Loss: 0.0277\n",
      "Epoch [13/20], Step [60/80], Loss: 0.0438\n",
      "Epoch [13/20], Step [80/80], Loss: 0.0369\n",
      "Epoch [14/20], Step [20/80], Loss: 0.0253\n",
      "Epoch [14/20], Step [40/80], Loss: 0.0281\n",
      "Epoch [14/20], Step [60/80], Loss: 0.0440\n",
      "Epoch [14/20], Step [80/80], Loss: 0.0109\n",
      "Epoch [15/20], Step [20/80], Loss: 0.0088\n",
      "Epoch [15/20], Step [40/80], Loss: 0.0428\n",
      "Epoch [15/20], Step [60/80], Loss: 0.0094\n",
      "Epoch [15/20], Step [80/80], Loss: 0.0155\n",
      "Epoch [16/20], Step [20/80], Loss: 0.0054\n",
      "Epoch [16/20], Step [40/80], Loss: 0.0086\n",
      "Epoch [16/20], Step [60/80], Loss: 0.0052\n",
      "Epoch [16/20], Step [80/80], Loss: 0.0053\n",
      "Epoch [17/20], Step [20/80], Loss: 0.0032\n",
      "Epoch [17/20], Step [40/80], Loss: 0.0024\n",
      "Epoch [17/20], Step [60/80], Loss: 0.0011\n",
      "Epoch [17/20], Step [80/80], Loss: 0.0028\n",
      "Epoch [18/20], Step [20/80], Loss: 0.0013\n",
      "Epoch [18/20], Step [40/80], Loss: 0.0012\n",
      "Epoch [18/20], Step [60/80], Loss: 0.0009\n",
      "Epoch [18/20], Step [80/80], Loss: 0.0011\n",
      "Epoch [19/20], Step [20/80], Loss: 0.0011\n",
      "Epoch [19/20], Step [40/80], Loss: 0.0010\n",
      "Epoch [19/20], Step [60/80], Loss: 0.0006\n",
      "Epoch [19/20], Step [80/80], Loss: 0.0004\n",
      "Epoch [20/20], Step [20/80], Loss: 0.0009\n",
      "Epoch [20/20], Step [40/80], Loss: 0.0007\n",
      "Epoch [20/20], Step [60/80], Loss: 0.0004\n",
      "Epoch [20/20], Step [80/80], Loss: 0.0003\n"
     ]
    }
   ],
   "source": [
    "#training\n",
    "model = ConvNet(num_classes).to(device)\n",
    "\n",
    "# Loss and optimizer\n",
    "criterion = nn.CrossEntropyLoss()\n",
    "optimizer = torch.optim.Adam(model.parameters(), lr=learning_rate)\n",
    "\n",
    "# Train the model\n",
    "total_step = len(train_loader)\n",
    "for epoch in range(num_epochs):\n",
    "    for i, (images, labels) in enumerate(train_loader):\n",
    "        images = images.to(device)\n",
    "        labels = labels.to(device)\n",
    "        \n",
    "        # Forward pass\n",
    "        outputs = model(images)\n",
    "        loss = criterion(outputs, labels)\n",
    "        \n",
    "        # Backward and optimize\n",
    "        optimizer.zero_grad()\n",
    "        loss.backward()\n",
    "        optimizer.step()\n",
    "        \n",
    "        if (i+1) % 20 == 0:\n",
    "            print ('Epoch [{}/{}], Step [{}/{}], Loss: {:.4f}' \n",
    "                   .format(epoch+1, num_epochs, i+1, total_step, loss.item()))\n"
   ]
  },
  {
   "cell_type": "code",
   "execution_count": 197,
   "metadata": {},
   "outputs": [
    {
     "name": "stdout",
     "output_type": "stream",
     "text": [
      "Test Accuracy of the model on the 2000 test images: 86.4 %\n"
     ]
    }
   ],
   "source": [
    "#testing\n",
    "# Test the model\n",
    "model.eval()  # eval mode (batchnorm uses moving mean/variance instead of mini-batch mean/variance)\n",
    "with torch.no_grad():\n",
    "    correct = 0\n",
    "    total = 0\n",
    "    for images, labels in test_loader:\n",
    "        images = images.to(device)\n",
    "        labels = labels.to(device)\n",
    "        outputs = model(images)\n",
    "        _, predicted = torch.max(outputs.data, 1)\n",
    "        total += labels.size(0)\n",
    "        correct += (predicted == labels).sum().item()\n",
    "\n",
    "    print('Test Accuracy of the model on the 2000 test images: {} %'.format(100 * correct / total))"
   ]
  },
  {
   "cell_type": "code",
   "execution_count": null,
   "metadata": {},
   "outputs": [],
   "source": [
    "## SVM"
   ]
  },
  {
   "cell_type": "code",
   "execution_count": 5,
   "metadata": {},
   "outputs": [],
   "source": [
    "training_data_flat = np.array([training_data[i][0].numpy().flatten() for i in range(len(training_data))])\n",
    "test_data_flat = np.array([test_data[i][0].numpy().flatten() for i in range(len(test_data))])\n",
    "training_y = np.array([training_data[i][1] for i in range(len(training_data))])\n",
    "test_y = np.array([test_data[i][1] for i in range(len(test_data))])"
   ]
  },
  {
   "cell_type": "code",
   "execution_count": 6,
   "metadata": {},
   "outputs": [
    {
     "data": {
      "text/plain": [
       "array([0, 0, 0, ..., 1, 1, 1])"
      ]
     },
     "execution_count": 6,
     "metadata": {},
     "output_type": "execute_result"
    }
   ],
   "source": [
    "test_y"
   ]
  },
  {
   "cell_type": "code",
   "execution_count": 7,
   "metadata": {},
   "outputs": [],
   "source": [
    "from sklearn.svm import SVC\n",
    "\n",
    "model = SVC(kernel='rbf',verbose=True)"
   ]
  },
  {
   "cell_type": "code",
   "execution_count": 8,
   "metadata": {},
   "outputs": [
    {
     "name": "stdout",
     "output_type": "stream",
     "text": [
      "[LibSVM]294.23169326782227\n"
     ]
    }
   ],
   "source": [
    "import time\n",
    "start_time = time.time()\n",
    "model.fit(training_data_flat, training_y)\n",
    "print(time.time() - start_time)"
   ]
  },
  {
   "cell_type": "code",
   "execution_count": 12,
   "metadata": {},
   "outputs": [
    {
     "name": "stdout",
     "output_type": "stream",
     "text": [
      "0.6525\n",
      "71.40791583061218\n"
     ]
    }
   ],
   "source": [
    "from sklearn.metrics import accuracy_score\n",
    "start_time = time.time()\n",
    "predicted = model.predict(test_data_flat)\n",
    "print(accuracy_score(test_y, predicted))\n",
    "print(time.time() - start_time)"
   ]
  },
  {
   "cell_type": "code",
   "execution_count": null,
   "metadata": {},
   "outputs": [],
   "source": [
    "## Ensemble SVM"
   ]
  },
  {
   "cell_type": "code",
   "execution_count": null,
   "metadata": {},
   "outputs": [],
   "source": [
    "from sklearn.ensemble import BaggingClassifier\n",
    "model = BaggingClassifier(SVC(kernel='rbf'), n_estimators=10)\n",
    "start_time = time.time()\n",
    "model.fit(training_data_flat, training_y)\n",
    "print(time.time() - start_time)"
   ]
  },
  {
   "cell_type": "code",
   "execution_count": null,
   "metadata": {},
   "outputs": [],
   "source": [
    "from sklearn.metrics import accuracy_score\n",
    "start_time = time.time()\n",
    "predicted = model.predict(test_data_flat)\n",
    "print(accuracy_score(test_y, predicted))\n",
    "print(time.time() - start_time)"
   ]
  }
 ],
 "metadata": {
  "kernelspec": {
   "display_name": "Python 3",
   "language": "python",
   "name": "python3"
  },
  "language_info": {
   "codemirror_mode": {
    "name": "ipython",
    "version": 3
   },
   "file_extension": ".py",
   "mimetype": "text/x-python",
   "name": "python",
   "nbconvert_exporter": "python",
   "pygments_lexer": "ipython3",
   "version": "3.8.3"
  }
 },
 "nbformat": 4,
 "nbformat_minor": 4
}
